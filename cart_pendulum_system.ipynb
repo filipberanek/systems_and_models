{
 "cells": [
  {
   "cell_type": "markdown",
   "metadata": {
    "id": "9IB54s-1F6pi"
   },
   "source": [
    "https://aleksandarhaber.com/equations-of-motion-of-a-pendulum-on-a-cart-by-using-lagranges-equations/#google_vignette\n",
    "https://aleksandarhaber.com/animate-dynamics-of-cart-pendulum-system-in-python-by-using-pygame-library/\n",
    "https://github.com/AleksandarHaber/Simulation-and-Animation-of-Cart-Pole-State-Space-Model-in-Python-and-Pygame"
   ]
  },
  {
   "cell_type": "markdown",
   "metadata": {},
   "source": [
    "<img src=\"images/cart_pole-2-1536x1194.png\" style=\"width:50%;\">\n"
   ]
  },
  {
   "cell_type": "markdown",
   "metadata": {},
   "source": [
    "<img src=\"images/pendulum_cart_1.jpg\" style=\"width:50%;\">\n",
    "<img src=\"images/pendulum_cart_2.jpg\" style=\"width:50%;\">\n",
    "<img src=\"images/pendulum_cart_3.jpg\" style=\"width:50%;\">\n",
    "<img src=\"images/pendulum_cart_4.jpg\" style=\"width:50%;\">\n"
   ]
  },
  {
   "cell_type": "markdown",
   "metadata": {},
   "source": [
    "# 🧱 Model: Inverzní kyvadlo na vozíku\n",
    "\n",
    "Představ si:\n",
    "\n",
    "- vozík o hmotnosti \\( m_1 \\),\n",
    "- kyvadlo o hmotnosti \\( m_2 \\) a délce \\( l \\),\n",
    "- na vozík působí vnější síla \\( F \\),\n",
    "- kyvadlo je spojeno s vozíkem, může se kývat,\n",
    "- zanedbáme tření.\n",
    "\n",
    "---\n",
    "\n",
    "## ⚙️ 1. Rovnice pohybu\n",
    "\n",
    "Získali jsme tyto dvě rovnice z dynamiky (viz Lagrangeova metoda):\n",
    "\n",
    "1. Pro vozík (rovnice 4):\n",
    "\n",
    "$$\n",
    "(m_1 + m_2)\\ddot{x} - m_2 l \\cos(\\theta) \\ddot{\\theta} + m_2 l \\dot{\\theta}^2 \\sin(\\theta) = F\n",
    "$$\n",
    "\n",
    "2. Pro kyvadlo (rovnice 5):\n",
    "\n",
    "$$\n",
    "- \\cos(\\theta) \\ddot{x} + l \\ddot{\\theta} - g \\sin(\\theta) = 0\n",
    "$$\n",
    "\n",
    "---\n",
    "\n",
    "## 🧮 2. Řešení soustavy rovnic\n",
    "\n",
    "Z rovnice 2 vyjádříme \\( \\ddot{\\theta} \\):\n",
    "\n",
    "$$\n",
    "l \\ddot{\\theta} = \\cos(\\theta) \\ddot{x} + g \\sin(\\theta)\n",
    "$$\n",
    "\n",
    "$$\n",
    "\\Rightarrow \\ddot{\\theta} = \\frac{\\cos(\\theta) \\ddot{x} + g \\sin(\\theta)}{l}\n",
    "$$\n",
    "\n",
    "Dosadíme do rovnice 1:\n",
    "\n",
    "$$\n",
    "(m_1 + m_2)\\ddot{x} - m_2 l \\cos(\\theta) \\cdot \\left( \\frac{\\cos(\\theta) \\ddot{x} + g \\sin(\\theta)}{l} \\right) + m_2 l \\dot{\\theta}^2 \\sin(\\theta) = F\n",
    "$$\n",
    "\n",
    "Zkrátíme \\( l \\) a roznásobíme:\n",
    "\n",
    "$$\n",
    "(m_1 + m_2 - m_2 \\cos^2(\\theta)) \\ddot{x} + m_2 l \\dot{\\theta}^2 \\sin(\\theta) - m_2 g \\cos(\\theta) \\sin(\\theta) = F\n",
    "$$\n",
    "\n",
    "Z toho vyjádříme \\( \\ddot{x} \\):\n",
    "\n",
    "$$\n",
    "\\ddot{x} = \n",
    "\\frac{\n",
    "F + m_2 l \\dot{\\theta}^2 \\sin(\\theta) - m_2 g \\cos(\\theta) \\sin(\\theta)\n",
    "}{\n",
    "m_1 + m_2 - m_2 \\cos^2(\\theta)\n",
    "}\n",
    "$$\n",
    "\n",
    "Pak dopočítáme \\( \\ddot{\\theta} \\) ze vztahu výše.\n",
    "\n",
    "---\n",
    "\n",
    "## 🔁 3. Stavové proměnné\n",
    "\n",
    "Zavedeme:\n",
    "\n",
    "- \\( x_1 = x \\) — pozice vozíku,\n",
    "- \\( x_2 = \\dot{x} \\) — rychlost vozíku,\n",
    "- \\( x_3 = \\theta \\) — úhel kyvadla,\n",
    "- \\( x_4 = \\dot{\\theta} \\) — úhlová rychlost.\n",
    "\n",
    "Pak:\n",
    "\n",
    "$$\n",
    "\\dot{x}_1 = x_2\n",
    "$$\n",
    "\n",
    "$$\n",
    "\\dot{x}_2 = \n",
    "\\frac{\n",
    "F + m_2 l x_4^2 \\sin(x_3) - m_2 g \\cos(x_3) \\sin(x_3)\n",
    "}{\n",
    "m_1 + m_2 - m_2 \\cos^2(x_3)\n",
    "}\n",
    "$$\n",
    "\n",
    "$$\n",
    "\\dot{x}_3 = x_4\n",
    "$$\n",
    "\n",
    "$$\n",
    "\\dot{x}_4 = \\frac{1}{l} \\left( \\cos(x_3)\\dot{x}_2 + g \\sin(x_3) \\right)\n",
    "$$\n",
    "\n",
    "---\n",
    "\n",
    "## 📤 4. Výstup (např. pozice a úhel)\n",
    "\n",
    "$$\n",
    "y =\n",
    "\\begin{bmatrix}\n",
    "x_1 \\\\\n",
    "x_3\n",
    "\\end{bmatrix}\n",
    "$$\n",
    "\n",
    "---\n",
    "\n",
    "## ✅ Finální nelineární stavový model\n",
    "\n",
    "$$\n",
    "\\begin{aligned}\n",
    "\\dot{x}_1 &= x_2 \\\\\n",
    "\\dot{x}_2 &= \n",
    "\\frac{\n",
    "F + m_2 l x_4^2 \\sin(x_3) - m_2 g \\cos(x_3) \\sin(x_3)\n",
    "}{\n",
    "m_1 + m_2 - m_2 \\cos^2(x_3)\n",
    "} \\\\\n",
    "\\dot{x}_3 &= x_4 \\\\\n",
    "\\dot{x}_4 &= \n",
    "\\frac{1}{l} \\left( \\cos(x_3)\\dot{x}_2 + g \\sin(x_3) \\right)\n",
    "\\end{aligned}\n",
    "$$\n",
    "\n",
    "Tento model je **nelineární** kvůli funkcím \\( \\sin(\\theta) \\), \\( \\cos(\\theta) \\), \\( \\theta^2 \\). Lze ho **linearizovat** pro malé hodnoty \\( \\theta \\approx 0 \\).\n"
   ]
  },
  {
   "cell_type": "code",
   "execution_count": null,
   "metadata": {
    "executionInfo": {
     "elapsed": 100,
     "status": "ok",
     "timestamp": 1752851554948,
     "user": {
      "displayName": "Filip Beranek",
      "userId": "10099868081946053681"
     },
     "user_tz": -120
    },
    "id": "djoDmtRcElj_"
   },
   "outputs": [],
   "source": [
    "# import the necessary libraries\n",
    "# we need numpy since we need to substitute symbolic variables by\n",
    "# real numbers\n",
    "import numpy as np\n",
    "# we need odeint() to integrate the state-space model\n",
    "from scipy.integrate import odeint\n",
    "# we need the ploting function\n",
    "import matplotlib.pyplot as plt\n",
    "# we import the complete SymPy library to simplify the notation\n",
    "from sympy import *\n",
    "# we call this function to enable nice printing of symbolic expressions\n",
    "init_printing()"
   ]
  },
  {
   "cell_type": "code",
   "execution_count": null,
   "metadata": {
    "executionInfo": {
     "elapsed": 42,
     "status": "ok",
     "timestamp": 1752851627437,
     "user": {
      "displayName": "Filip Beranek",
      "userId": "10099868081946053681"
     },
     "user_tz": -120
    },
    "id": "v_in32vqF7cQ"
   },
   "outputs": [],
   "source": [
    "# create the symbolic parameter variables\n",
    "m1,m2,l,g=symbols('m1 m2 l g')\n",
    "# symbolic force\n",
    "F=symbols('F')\n",
    "# state variables\n",
    "z1,z2,z3,z4=symbols('z1 z2 z3 z4')\n",
    "\n",
    "# derivatives\n",
    "dz2, dz4 =symbols('dz2 dz4')"
   ]
  },
  {
   "cell_type": "code",
   "execution_count": null,
   "metadata": {
    "executionInfo": {
     "elapsed": 400,
     "status": "ok",
     "timestamp": 1752851668259,
     "user": {
      "displayName": "Filip Beranek",
      "userId": "10099868081946053681"
     },
     "user_tz": -120
    },
    "id": "_l5vjzxMGTzM"
   },
   "outputs": [],
   "source": [
    "# first equation\n",
    "e1=(m1+m2)*dz2-m2*l*dz4*cos(z3)+m2*l*(z4**2)*sin(z3)-F\n",
    "# second equation\n",
    "e2=l*dz4-dz2*cos(z3)-g*sin(z3)"
   ]
  },
  {
   "cell_type": "code",
   "execution_count": null,
   "metadata": {
    "executionInfo": {
     "elapsed": 59,
     "status": "ok",
     "timestamp": 1752851917411,
     "user": {
      "displayName": "Filip Beranek",
      "userId": "10099868081946053681"
     },
     "user_tz": -120
    },
    "id": "jI1cHcbaGdrg"
   },
   "outputs": [],
   "source": [
    "# define and solve the equations -> Calculate with respect to dz2 and dz4\n",
    "result=solve([e1, e2], dz2,dz4 , dict=True)"
   ]
  },
  {
   "cell_type": "code",
   "execution_count": null,
   "metadata": {
    "colab": {
     "base_uri": "https://localhost:8080/",
     "height": 78
    },
    "executionInfo": {
     "elapsed": 134,
     "status": "ok",
     "timestamp": 1752851988088,
     "user": {
      "displayName": "Filip Beranek",
      "userId": "10099868081946053681"
     },
     "user_tz": -120
    },
    "id": "mEXMRrccHrhy",
    "outputId": "75018612-2f8c-47b4-a350-fa9c0a94545c"
   },
   "outputs": [],
   "source": [
    "result"
   ]
  },
  {
   "cell_type": "code",
   "execution_count": null,
   "metadata": {
    "executionInfo": {
     "elapsed": 1109,
     "status": "ok",
     "timestamp": 1752851938220,
     "user": {
      "displayName": "Filip Beranek",
      "userId": "10099868081946053681"
     },
     "user_tz": -120
    },
    "id": "n4PTZghrHXNs"
   },
   "outputs": [],
   "source": [
    "# first equation\n",
    "dz2Solved=simplify(result[0][dz2])\n",
    "\n",
    "# second equation\n",
    "dz4Solved=simplify(result[0][dz4])"
   ]
  },
  {
   "cell_type": "code",
   "execution_count": null,
   "metadata": {
    "executionInfo": {
     "elapsed": 3,
     "status": "ok",
     "timestamp": 1752852040052,
     "user": {
      "displayName": "Filip Beranek",
      "userId": "10099868081946053681"
     },
     "user_tz": -120
    },
    "id": "TIUYFv0-HnBQ"
   },
   "outputs": [],
   "source": [
    "# define the numerical values of the parameters\n",
    "lV=1\n",
    "gV=9.81\n",
    "m1V=10\n",
    "m2V=1\n",
    "# substituted them in the equations\n",
    "dz2Solved=dz2Solved.subs(l,lV).subs(g,gV).subs(m1,m1V).subs(m2,m2V)\n",
    "dz4Solved=dz4Solved.subs(l,lV).subs(g,gV).subs(m1,m1V).subs(m2,m2V)"
   ]
  },
  {
   "cell_type": "code",
   "execution_count": null,
   "metadata": {
    "colab": {
     "base_uri": "https://localhost:8080/",
     "height": 59
    },
    "executionInfo": {
     "elapsed": 37,
     "status": "ok",
     "timestamp": 1752853698172,
     "user": {
      "displayName": "Filip Beranek",
      "userId": "10099868081946053681"
     },
     "user_tz": -120
    },
    "id": "XCksDvxIONLH",
    "outputId": "02ff09aa-eccc-4575-ea53-5286fa0fb2a9"
   },
   "outputs": [],
   "source": [
    "dz2Solved"
   ]
  },
  {
   "cell_type": "code",
   "execution_count": null,
   "metadata": {
    "executionInfo": {
     "elapsed": 3,
     "status": "ok",
     "timestamp": 1752853703867,
     "user": {
      "displayName": "Filip Beranek",
      "userId": "10099868081946053681"
     },
     "user_tz": -120
    },
    "id": "gt2KD_UXH4iT"
   },
   "outputs": [],
   "source": [
    "# create the Python functions that return the numberical values\n",
    "functionDz2=lambdify([z1,z2,z3,z4,F],dz2Solved)"
   ]
  },
  {
   "cell_type": "code",
   "execution_count": null,
   "metadata": {
    "colab": {
     "base_uri": "https://localhost:8080/",
     "height": 66
    },
    "executionInfo": {
     "elapsed": 104,
     "status": "ok",
     "timestamp": 1752853712925,
     "user": {
      "displayName": "Filip Beranek",
      "userId": "10099868081946053681"
     },
     "user_tz": -120
    },
    "id": "EwFWYI1gOQju",
    "outputId": "d3f6477f-fc00-4900-a612-2c5e0335e17a"
   },
   "outputs": [],
   "source": [
    "dz4Solved"
   ]
  },
  {
   "cell_type": "code",
   "execution_count": null,
   "metadata": {
    "executionInfo": {
     "elapsed": 22,
     "status": "ok",
     "timestamp": 1752853713238,
     "user": {
      "displayName": "Filip Beranek",
      "userId": "10099868081946053681"
     },
     "user_tz": -120
    },
    "id": "AO26Me0fOPU3"
   },
   "outputs": [],
   "source": [
    "functionDz4=lambdify([z1,z2,z3,z4,F],dz4Solved)"
   ]
  },
  {
   "cell_type": "code",
   "execution_count": null,
   "metadata": {
    "executionInfo": {
     "elapsed": 4,
     "status": "ok",
     "timestamp": 1752852095015,
     "user": {
      "displayName": "Filip Beranek",
      "userId": "10099868081946053681"
     },
     "user_tz": -120
    },
    "id": "hswXO9esH_a6"
   },
   "outputs": [],
   "source": [
    "def stateSpaceModel(z,t,timePoints,forceArray):\n",
    "    x, x_dot, theta, theta_dota = z\n",
    "    # interpolate input force values\n",
    "    # depending on the current time\n",
    "    forceApplied=np.interp(t,timePoints, forceArray)\n",
    "    # NOTE THAT IF YOU KNOW THE ANALYTICAL FORM OF THE INPUT FUNCTION\n",
    "    # YOU CAN JUST WRITE THIS ANALYTICAL FORM AS A FUNCTION OF TIME\n",
    "    # for example in our case, we can also write\n",
    "    # forceApplied=np.sin(t)+np.cos(2*t)\n",
    "    # and you do not need to specity forceArray as an input to the function\n",
    "    # HOWEVER, IF YOU DO NOT KNOW THE ANALYTICAL FORM YOU HAVE TO USE OUR APPROACH\n",
    "    # AND INTERPOLATE VALUES\n",
    "    # right-side of the state equation\n",
    "    dz2Value=functionDz2(x,x_dot,theta,theta_dota,forceApplied)\n",
    "    dz4Value=functionDz4(x,x_dot,theta,theta_dota,forceApplied)\n",
    "    dxdt=[x_dot,dz2Value,theta_dota,dz4Value]\n",
    "    return dxdt"
   ]
  },
  {
   "cell_type": "code",
   "execution_count": null,
   "metadata": {
    "colab": {
     "base_uri": "https://localhost:8080/",
     "height": 449
    },
    "executionInfo": {
     "elapsed": 280,
     "status": "ok",
     "timestamp": 1752853605931,
     "user": {
      "displayName": "Filip Beranek",
      "userId": "10099868081946053681"
     },
     "user_tz": -120
    },
    "id": "iGE0G74JIF9a",
    "outputId": "6dd3aaf6-4aaf-4629-e8bd-8af96010113d"
   },
   "outputs": [],
   "source": [
    "# define the simulation parameters\n",
    "startTime=0\n",
    "endTime=75\n",
    "timeSteps=15000\n",
    "\n",
    "# simulation time array\n",
    "# we will obtain the solution at the time points defined by\n",
    "# the vector simulationTime\n",
    "simulationTime=np.linspace(startTime,endTime,timeSteps)\n",
    "\n",
    "# define the force input\n",
    "#forceInput = np.sin(simulationTime)+np.cos(2*simulationTime)\n",
    "forceInput = np.zeros(shape=(simulationTime.shape))\n",
    "\n",
    "# plot the applied force\n",
    "plt.plot(simulationTime, forceInput)\n",
    "plt.xlabel('time')\n",
    "plt.ylabel('Force - [N]')\n",
    "#plt.savefig('inputSequence.png',dpi=600)\n",
    "plt.show()\n",
    "\n",
    "# define the initial state for simulation\n",
    "initialState=np.array([0,0,np.pi/3,0])\n",
    "\n",
    "# generate the state-space trajectory by simulating the state-space model\n",
    "solutionState=odeint(stateSpaceModel,initialState,\n",
    "                     simulationTime,\n",
    "                     args=(simulationTime,forceInput))\n",
    "\n",
    "# save the simulation data\n",
    "# the save file is opened by another Python script that is used\n",
    "# to animate the trajectory\n",
    "# np.save(f'simulationData.npy', solutionState)"
   ]
  },
  {
   "cell_type": "code",
   "execution_count": null,
   "metadata": {
    "colab": {
     "base_uri": "https://localhost:8080/",
     "height": 1000
    },
    "executionInfo": {
     "elapsed": 1719,
     "status": "ok",
     "timestamp": 1752852160140,
     "user": {
      "displayName": "Filip Beranek",
      "userId": "10099868081946053681"
     },
     "user_tz": -120
    },
    "id": "o9e07f3BIH44",
    "outputId": "3327222f-6fdf-4e26-cc8e-3f8e3b4b9f4e"
   },
   "outputs": [],
   "source": [
    "# plot the state trajectories\n",
    "# cart state trajectories\n",
    "plt.figure(figsize=(10,8))\n",
    "plt.plot(simulationTime, solutionState[:,0],'b',linewidth=2,label='z1')\n",
    "plt.plot(simulationTime, solutionState[:,1],'r',linewidth=2,label='z2')\n",
    "plt.xlabel('time',fontsize=16)\n",
    "plt.ylabel('Cart states',fontsize=16)\n",
    "plt.legend(fontsize=14)\n",
    "plt.tick_params(axis='both', which='major', labelsize=14)\n",
    "plt.grid()\n",
    "#plt.savefig('cartStates.png',dpi=600)\n",
    "plt.show()\n",
    "\n",
    "# plot the state trajectories\n",
    "# pendulum state trajectories\n",
    "plt.figure(figsize=(10,8))\n",
    "plt.plot(simulationTime, solutionState[:,2],'b',linewidth=2,label='z3')\n",
    "plt.plot(simulationTime, solutionState[:,3],'r',linewidth=2,label='z4')\n",
    "plt.xlabel('time',fontsize=16)\n",
    "plt.ylabel('Pendulum states',fontsize=16)\n",
    "plt.legend(fontsize=14)\n",
    "plt.tick_params(axis='both', which='major', labelsize=14)\n",
    "plt.grid()\n",
    "#plt.savefig('pendulumStates.png',dpi=600)\n",
    "plt.show()"
   ]
  },
  {
   "cell_type": "code",
   "execution_count": null,
   "metadata": {},
   "outputs": [],
   "source": [
    "import pygame\n",
    "import numpy as np\n",
    "\n",
    "# Initialise pygame\n",
    "pygame.init()\n",
    "\n",
    "# Set window size\n",
    "size = width, height = 1600, 800\n",
    "screen = pygame.display.set_mode(size)\n",
    "# Clock\n",
    "clock = pygame.time.Clock()\n",
    "\n",
    "\n",
    "# this is a frame counter\n",
    "i = 0\n",
    "# load the simulation data that is computed by simulating the cart-pendulum\n",
    "# state-space model\n",
    "solutionArray = solutionState  # np.load(f\"simulationData.npy\")\n",
    "\n",
    "# x coordinate of the cart\n",
    "x = solutionArray[:, 0]\n",
    "# angle of the pendulum\n",
    "theta = solutionArray[:, 2]\n",
    "\n",
    "# here, we need to scale and translate x in order to get x in pixels\n",
    "maxX = max(x)\n",
    "minX = min(x)\n",
    "offsetScreenLimits = 500\n",
    "lB = offsetScreenLimits\n",
    "uB = width - offsetScreenLimits\n",
    "scaleX = (uB - lB) / (maxX - minX)\n",
    "offsetX = lB - scaleX * minX\n",
    "x = scaleX * x + offsetX\n",
    "\n",
    "\n",
    "# geometrical parameters\n",
    "# ball radius\n",
    "ballRadius = 40\n",
    "# cart width and height\n",
    "cartWidth = 150\n",
    "cartHeight = 100\n",
    "# rod length\n",
    "rodLength = 300\n",
    "# wheel radius\n",
    "wheelRadius = 25\n",
    "# pendulum support bearing\n",
    "pendulumSupportRadius = 15\n",
    "# position of the base point of the cart in the y-direction\n",
    "yPositionCart = 400\n",
    "\n",
    "# colors\n",
    "colorRail = (255, 165, 0)\n",
    "colorCart = (255, 255, 153)\n",
    "colorBall = (255, 0, 0)\n",
    "colorWheels = (0, 200, 0)\n",
    "colorPendulumSupport = (255, 165, 0)\n",
    "colorRod = (255, 0, 255)\n",
    "\n",
    "# simulation while loop\n",
    "while i < len(x):\n",
    "    # Close window event\n",
    "    for event in pygame.event.get():\n",
    "        if event.type == pygame.QUIT:\n",
    "            running = True\n",
    "\n",
    "    # Background Color\n",
    "    screen.fill((0, 0, 0))\n",
    "\n",
    "    # point C -base point of the cart\n",
    "    xC = x[i]\n",
    "    yC = yPositionCart\n",
    "\n",
    "    # draw the rail\n",
    "    pygame.draw.line(\n",
    "        screen,\n",
    "        colorRail,\n",
    "        (int(min(x) - 300), int(yC + cartHeight + 2 * wheelRadius)),\n",
    "        (int(max(x) + 300), int(yC + cartHeight + 2 * wheelRadius)),\n",
    "        6,\n",
    "    )\n",
    "\n",
    "    # draw the cart\n",
    "    pygame.draw.rect(screen, colorCart, (int(xC - cartWidth / 2), yC, cartWidth, cartHeight))\n",
    "\n",
    "    # draw the pendulum circle support - rotation support\n",
    "\n",
    "    pygame.draw.circle(screen, colorPendulumSupport, (int(xC), int(yC)), pendulumSupportRadius)\n",
    "\n",
    "    # draw the cart wheels\n",
    "    # left wheel\n",
    "    pygame.draw.circle(\n",
    "        screen, colorWheels, (int(xC - cartWidth / 2 + wheelRadius), int(yC + cartHeight + wheelRadius)), wheelRadius\n",
    "    )\n",
    "    # right wheel\n",
    "    pygame.draw.circle(\n",
    "        screen, colorWheels, (int(xC + cartWidth / 2 - wheelRadius), int(yC + cartHeight + wheelRadius)), wheelRadius\n",
    "    )\n",
    "\n",
    "    # draw the rod\n",
    "    # end point\n",
    "    xB = xC - rodLength * np.sin(theta[i])\n",
    "    yB = yC - rodLength * np.cos(theta[i])\n",
    "    pygame.draw.line(screen, colorRod, (int(xC), yC), (int(xB), int(yB)), 8)\n",
    "\n",
    "    # draw the ball\n",
    "    pygame.draw.circle(screen, colorBall, (int(xB), int(yB)), ballRadius)\n",
    "\n",
    "    pygame.display.flip()\n",
    "    # introduce a delay\n",
    "    pygame.time.delay(1)\n",
    "    # https://www.pygame.org/docs/ref/time.html#pygame.time.Clock.tick\n",
    "    clock.tick(100)\n",
    "    i = i + 1\n",
    "\n",
    "# this is important, run this if the pygame window does not want to close\n",
    "pygame.quit()\n"
   ]
  },
  {
   "cell_type": "code",
   "execution_count": null,
   "metadata": {},
   "outputs": [],
   "source": []
  }
 ],
 "metadata": {
  "colab": {
   "authorship_tag": "ABX9TyOsH0dPxGooq+M48dIpMiyC",
   "mount_file_id": "1ZuE9XlipGjQM-xTD-cgod69tHF3qVpzn",
   "provenance": []
  },
  "kernelspec": {
   "display_name": "venv",
   "language": "python",
   "name": "python3"
  },
  "language_info": {
   "codemirror_mode": {
    "name": "ipython",
    "version": 3
   },
   "file_extension": ".py",
   "mimetype": "text/x-python",
   "name": "python",
   "nbconvert_exporter": "python",
   "pygments_lexer": "ipython3",
   "version": "3.10.11"
  }
 },
 "nbformat": 4,
 "nbformat_minor": 0
}
